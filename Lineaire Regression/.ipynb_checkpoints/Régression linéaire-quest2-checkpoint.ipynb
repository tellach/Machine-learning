{
 "cells": [
  {
   "cell_type": "markdown",
   "metadata": {},
   "source": [
    "# TP 02 : Régression linéaire \n"
   ]
  },
  {
   "cell_type": "markdown",
   "metadata": {},
   "source": [
    "## I Régression linéaire à une seule variable \n",
    "Dans cette partie, on commence par implémenter la régression linéaire avec une seule variable de prédiction (predictor). Nous allons donc essayer de résoudre le fameux problème de prédiction du prix d'une maison en connaissant sa superficie. \n",
    "\n",
    "### I.1 Préparation des données"
   ]
  },
  {
   "cell_type": "code",
   "execution_count": 1,
   "metadata": {},
   "outputs": [],
   "source": [
    "# -*- coding: utf-8 -*-\n",
    "import numpy as np\n",
    "import pandas as pd \n",
    "import matplotlib.pyplot as plt \n",
    "%matplotlib inline"
   ]
  },
  {
   "cell_type": "markdown",
   "metadata": {},
   "source": [
    "#### I.1.1 Lecture des données"
   ]
  },
  {
   "cell_type": "code",
   "execution_count": 2,
   "metadata": {},
   "outputs": [
    {
     "data": {
      "text/html": [
       "<div>\n",
       "<style scoped>\n",
       "    .dataframe tbody tr th:only-of-type {\n",
       "        vertical-align: middle;\n",
       "    }\n",
       "\n",
       "    .dataframe tbody tr th {\n",
       "        vertical-align: top;\n",
       "    }\n",
       "\n",
       "    .dataframe thead th {\n",
       "        text-align: right;\n",
       "    }\n",
       "</style>\n",
       "<table border=\"1\" class=\"dataframe\">\n",
       "  <thead>\n",
       "    <tr style=\"text-align: right;\">\n",
       "      <th></th>\n",
       "      <th>Superficie</th>\n",
       "      <th>Prix</th>\n",
       "    </tr>\n",
       "  </thead>\n",
       "  <tbody>\n",
       "    <tr>\n",
       "      <td>0</td>\n",
       "      <td>2104</td>\n",
       "      <td>399900</td>\n",
       "    </tr>\n",
       "    <tr>\n",
       "      <td>1</td>\n",
       "      <td>1600</td>\n",
       "      <td>329900</td>\n",
       "    </tr>\n",
       "    <tr>\n",
       "      <td>2</td>\n",
       "      <td>2400</td>\n",
       "      <td>369000</td>\n",
       "    </tr>\n",
       "    <tr>\n",
       "      <td>3</td>\n",
       "      <td>1416</td>\n",
       "      <td>232000</td>\n",
       "    </tr>\n",
       "    <tr>\n",
       "      <td>4</td>\n",
       "      <td>3000</td>\n",
       "      <td>539900</td>\n",
       "    </tr>\n",
       "  </tbody>\n",
       "</table>\n",
       "</div>"
      ],
      "text/plain": [
       "   Superficie    Prix\n",
       "0        2104  399900\n",
       "1        1600  329900\n",
       "2        2400  369000\n",
       "3        1416  232000\n",
       "4        3000  539900"
      ]
     },
     "execution_count": 2,
     "metadata": {},
     "output_type": "execute_result"
    }
   ],
   "source": [
    "header = [\"Superficie\", \"Prix\"]\n",
    "houses = pd.read_csv(\"datasets/houses.csv\", names=header)\n",
    "houses.head()"
   ]
  },
  {
   "cell_type": "code",
   "execution_count": 3,
   "metadata": {},
   "outputs": [
    {
     "data": {
      "text/html": [
       "<div>\n",
       "<style scoped>\n",
       "    .dataframe tbody tr th:only-of-type {\n",
       "        vertical-align: middle;\n",
       "    }\n",
       "\n",
       "    .dataframe tbody tr th {\n",
       "        vertical-align: top;\n",
       "    }\n",
       "\n",
       "    .dataframe thead th {\n",
       "        text-align: right;\n",
       "    }\n",
       "</style>\n",
       "<table border=\"1\" class=\"dataframe\">\n",
       "  <thead>\n",
       "    <tr style=\"text-align: right;\">\n",
       "      <th></th>\n",
       "      <th>Superficie</th>\n",
       "      <th>Prix</th>\n",
       "    </tr>\n",
       "  </thead>\n",
       "  <tbody>\n",
       "    <tr>\n",
       "      <td>count</td>\n",
       "      <td>47.000000</td>\n",
       "      <td>47.000000</td>\n",
       "    </tr>\n",
       "    <tr>\n",
       "      <td>mean</td>\n",
       "      <td>2000.680851</td>\n",
       "      <td>340412.659574</td>\n",
       "    </tr>\n",
       "    <tr>\n",
       "      <td>std</td>\n",
       "      <td>794.702354</td>\n",
       "      <td>125039.899586</td>\n",
       "    </tr>\n",
       "    <tr>\n",
       "      <td>min</td>\n",
       "      <td>852.000000</td>\n",
       "      <td>169900.000000</td>\n",
       "    </tr>\n",
       "    <tr>\n",
       "      <td>25%</td>\n",
       "      <td>1432.000000</td>\n",
       "      <td>249900.000000</td>\n",
       "    </tr>\n",
       "    <tr>\n",
       "      <td>50%</td>\n",
       "      <td>1888.000000</td>\n",
       "      <td>299900.000000</td>\n",
       "    </tr>\n",
       "    <tr>\n",
       "      <td>75%</td>\n",
       "      <td>2269.000000</td>\n",
       "      <td>384450.000000</td>\n",
       "    </tr>\n",
       "    <tr>\n",
       "      <td>max</td>\n",
       "      <td>4478.000000</td>\n",
       "      <td>699900.000000</td>\n",
       "    </tr>\n",
       "  </tbody>\n",
       "</table>\n",
       "</div>"
      ],
      "text/plain": [
       "        Superficie           Prix\n",
       "count    47.000000      47.000000\n",
       "mean   2000.680851  340412.659574\n",
       "std     794.702354  125039.899586\n",
       "min     852.000000  169900.000000\n",
       "25%    1432.000000  249900.000000\n",
       "50%    1888.000000  299900.000000\n",
       "75%    2269.000000  384450.000000\n",
       "max    4478.000000  699900.000000"
      ]
     },
     "execution_count": 3,
     "metadata": {},
     "output_type": "execute_result"
    }
   ],
   "source": [
    "houses.describe()"
   ]
  },
  {
   "cell_type": "markdown",
   "metadata": {},
   "source": [
    "##### I.1.2 Normalisation \n",
    "La normalisation est la mise à echelle des valeurs des caractéristiques. Exemple simple de but : En calculant la distance euclidienne une des caracteristiques va avoir plus d'effet sur le résultat si ses valeurs sont beaucoup plus grandes que celle de l'autre variable. "
   ]
  },
  {
   "cell_type": "code",
   "execution_count": 4,
   "metadata": {},
   "outputs": [
    {
     "data": {
      "text/plain": [
       "(array([[ 0.        , -1.35873244],\n",
       "        [-1.22474487,  1.01904933],\n",
       "        [ 1.22474487,  0.33968311]]),\n",
       " array([2., 7.]),\n",
       " array([0.81649658, 2.94392029]))"
      ]
     },
     "execution_count": 4,
     "metadata": {},
     "output_type": "execute_result"
    }
   ],
   "source": [
    "# Normalisation\n",
    "# la fonction qui applique le Z-score sur une matrice \n",
    "# La fonction doit retourner 3 résultats \n",
    "# 1: la matrice normalisée, 2: la moyenne, 3: la déviation standard \n",
    "def normalise(X): \n",
    "    mean = np.mean(X, axis=0)\n",
    "    std = np.std(X, axis=0)\n",
    "    return (X-mean)/std, mean, std\n",
    "\n",
    "\n",
    "# Doit afficher: \n",
    "\"\"\"\n",
    "(array([[ 0.        , -1.35873244],\n",
    "        [-1.22474487,  1.01904933],\n",
    "        [ 1.22474487,  0.33968311]]),\n",
    " array([2., 7.]),\n",
    " array([0.81649658, 2.94392029]))\n",
    "\"\"\"\n",
    "normalise([[2., 3.], [1., 10.], [3., 8]])\n"
   ]
  },
  {
   "cell_type": "markdown",
   "metadata": {},
   "source": [
    "##### I.1.3 Fractionnement des données \n",
    "Ici, on va diviser les données en données de test et d'entrainnement \n",
    "\n",
    "On prend juste les 7 dernières ligne pour le  test "
   ]
  },
  {
   "cell_type": "code",
   "execution_count": 5,
   "metadata": {},
   "outputs": [
    {
     "data": {
      "text/plain": [
       "((36, 1), (36,), (11, 1), (11,))"
      ]
     },
     "execution_count": 5,
     "metadata": {},
     "output_type": "execute_result"
    }
   ],
   "source": [
    "# Extraction des caractéristiques \n",
    "def fractionner(df):\n",
    "    X = df.iloc[:, :-1].values # Premières colonnes \n",
    "    Y = df.iloc[:,-1].values # Dernière colonne \n",
    "    # On définit la matrice X comme etant la supérficie concatenée à un vecteur de 1 \n",
    "    # pour faciliter l'algorithme pour theta0 \n",
    "    return X, Y\n",
    "\n",
    "# Randomization des données pour marquer les 80% lignes\n",
    "msk = np.random.rand(len(houses)) < 0.8 \n",
    "\n",
    "X_train, Y_train = fractionner(houses[msk])\n",
    "X_test, Y_test = fractionner(houses[~msk])\n",
    "X_train.shape, Y_train.shape, X_test.shape, Y_test.shape"
   ]
  },
  {
   "cell_type": "code",
   "execution_count": 6,
   "metadata": {},
   "outputs": [
    {
     "data": {
      "image/png": "[encoded data removed]",
      "text/plain": [
       "<Figure size 432x288 with 1 Axes>"
      ]
     },
     "metadata": {
      "needs_background": "light"
     },
     "output_type": "display_data"
    }
   ],
   "source": [
    "# Les données d'entrainnement en bleu\n",
    "plt.scatter(X_train, Y_train, color=\"blue\")\n",
    "# Les données de test en rouge\n",
    "plt.scatter(X_test, Y_test, color=\"red\")\n",
    "plt.xlabel('Superficie')\n",
    "plt.ylabel('Prix')\n",
    "plt.show()"
   ]
  },
  {
   "cell_type": "markdown",
   "metadata": {},
   "source": [
    "### I.2 Descente du gradient \n",
    "\n",
    "#### I.2.1 Définir les paramètres"
   ]
  },
  {
   "cell_type": "code",
   "execution_count": 7,
   "metadata": {},
   "outputs": [
    {
     "data": {
      "text/plain": [
       "[0.0, 0.0]"
      ]
     },
     "execution_count": 7,
     "metadata": {},
     "output_type": "execute_result"
    }
   ],
   "source": [
    "# Définir les hyperparamétres : \n",
    "import random\n",
    "LEARNING_RATE = 0.01 \n",
    "NB_ITER = 2000\n",
    "theta0 = float(0)\n",
    "theta1 = float(0)\n",
    "\n",
    "# TODO :  Initialiser aléatoirement les paramètres :\n",
    "## theta est une liste contenant les paramètres theta (le nombre des colonnes)\n",
    "#des caractéristiques de X + 1 (pour theta0)\n",
    "theta = [theta0,theta1]\n",
    "# Affichage des paramètres initiales (5 premières lignes)\n",
    "theta"
   ]
  },
  {
   "cell_type": "markdown",
   "metadata": {},
   "source": [
    "#### I.2.2 Définir les fonctions nécessaires pour la regression linéaire"
   ]
  },
  {
   "cell_type": "code",
   "execution_count": 8,
   "metadata": {},
   "outputs": [
    {
     "data": {
      "text/plain": [
       "array([2.75, 5.25, 4.25])"
      ]
     },
     "execution_count": 8,
     "metadata": {},
     "output_type": "execute_result"
    }
   ],
   "source": [
    "# TODO: Prédire la valeur : \n",
    "def predire(X, theta):\n",
    "    a = np.array(X)\n",
    "    b = np.array(theta)\n",
    "    return a.dot(b)\n",
    "\n",
    "# tester la prédiction \n",
    "X_t = np.array([[1., 5.], [1., 10.], [1., 8]])\n",
    "theta_t = np.array([0.25, 0.5])\n",
    "# Le résulat doit être\n",
    "\"\"\"\n",
    "array([2.75, 5.25, 4.25])\n",
    "\"\"\"\n",
    "predire(X_t, theta_t)"
   ]
  },
  {
   "cell_type": "code",
   "execution_count": 9,
   "metadata": {},
   "outputs": [
    {
     "data": {
      "text/plain": [
       "0.03125"
      ]
     },
     "execution_count": 9,
     "metadata": {},
     "output_type": "execute_result"
    }
   ],
   "source": [
    "# TODO: Définir la fonction de cout : \n",
    "def J(X, Y, theta):\n",
    "    cout = np.sum((predire(X,theta) - Y) ** 2) / (2 * len(X))\n",
    "    return cout\n",
    "\n",
    "# tester le cout \n",
    "#X_t = np.array([[1., 5.], [1., 10.], [1., 8]])\n",
    "#theta_t = np.array([0.25, 0.5])\n",
    "Y_t = np.array([3., 5., 4.5])\n",
    "# Le résulat doit être ((3-2.75)^2 + (5-5.25)^2 + (4.5-4.25)^2))/6\n",
    "\"\"\"\n",
    "0.03125\n",
    "\"\"\"\n",
    "J(X_t, Y_t, theta_t)"
   ]
  },
  {
   "cell_type": "code",
   "execution_count": 10,
   "metadata": {},
   "outputs": [
    {
     "data": {
      "text/plain": [
       "array([-0.08333333, -0.25      ])"
      ]
     },
     "execution_count": 10,
     "metadata": {},
     "output_type": "execute_result"
    }
   ],
   "source": [
    "# TODO: Définir la fonction de gradient :\n",
    "def gradient(X, Y, theta):\n",
    "    return  ((predire(X,theta) - Y)/ len(X)).dot(X)\n",
    "# Tester le gradient, le résultat doit être\n",
    "\"\"\"\n",
    "array([-0.08333333, -0.25      ])\n",
    "\"\"\"\n",
    "gradient(X_t, Y_t, theta_t)"
   ]
  },
  {
   "cell_type": "code",
   "execution_count": 11,
   "metadata": {},
   "outputs": [
    {
     "data": {
      "image/png": "[encoded data removed]",
      "text/plain": [
       "<Figure size 432x288 with 1 Axes>"
      ]
     },
     "metadata": {
      "needs_background": "light"
     },
     "output_type": "display_data"
    }
   ],
   "source": [
    "def afficher_droite(X, Y, theta):\n",
    "    plt.scatter(X[:,1], Y, color=\"blue\")\n",
    "    plt.plot(X[:,1], predire(X, theta), color=\"red\")\n",
    "    plt.show()\n",
    "# tester avec X_t et Y_t\n",
    "afficher_droite(X_t, Y_t, theta_t)"
   ]
  },
  {
   "cell_type": "code",
   "execution_count": 20,
   "metadata": {},
   "outputs": [
    {
     "data": {
      "image/png": "[encoded data removed]",
      "text/plain": [
       "<Figure size 432x288 with 1 Axes>"
      ]
     },
     "metadata": {
      "needs_background": "light"
     },
     "output_type": "display_data"
    },
    {
     "data": {
      "image/png": "[encoded data removed]",
      "text/plain": [
       "<Figure size 432x288 with 1 Axes>"
      ]
     },
     "metadata": {
      "needs_background": "light"
     },
     "output_type": "display_data"
    },
    {
     "data": {
      "text/plain": [
       "(array([0.25202765, 0.50363117]),\n",
       " [0.03125, 0.030768749999999997, 0.030682227021604936])"
      ]
     },
     "execution_count": 20,
     "metadata": {},
     "output_type": "execute_result"
    }
   ],
   "source": [
    "# TODO : Définir la déscente du gradient\n",
    "# Cette fonction doit afficher \n",
    "def gradient_descent(X, Y, theta, nb_iter, learning_rate, affich = False):\n",
    "    couts = []\n",
    "    theta1 = theta.copy()\n",
    "    \n",
    "    if (affich):\n",
    "        afficher_droite(X, Y, theta1)\n",
    "    \n",
    "    # TODO Définir l'algorithme de la descente de gradient : \n",
    "    for i in range (nb_iter):\n",
    "        couts.append(J(X, Y, theta1))\n",
    "        theta1 = theta1 - learning_rate * gradient(X,Y,theta1)\n",
    "        \n",
    "    if(affich):\n",
    "        afficher_droite(X, Y, theta1)\n",
    "\n",
    "    return theta1, couts\n",
    "\n",
    "# Tester la fonction\n",
    "# array([0.25202765, 0.50363117])\n",
    "# [0.03125, 0.030768749999999997, 0.030682227021604936])\n",
    "gradient_descent(X_t, Y_t, theta_t, 3, LEARNING_RATE, affich=True)"
   ]
  },
  {
   "cell_type": "markdown",
   "metadata": {},
   "source": [
    "#### I.2.3  Appliquer la descente sur nos données \n",
    "Lorsqu'on applique le code suivant, on aura un problème\n",
    "\n",
    "**Question** : Quel est le problème ?\n",
    "Régler le"
   ]
  },
  {
   "cell_type": "markdown",
   "metadata": {},
   "source": [
    "**Réponse (Quel est le problème)** : "
   ]
  },
  {
   "cell_type": "code",
   "execution_count": 13,
   "metadata": {},
   "outputs": [
    {
     "data": {
      "image/png": "[encoded data removed]",
      "text/plain": [
       "<Figure size 432x288 with 1 Axes>"
      ]
     },
     "metadata": {
      "needs_background": "light"
     },
     "output_type": "display_data"
    },
    {
     "data": {
      "image/png": "[encoded data removed]",
      "text/plain": [
       "<Figure size 432x288 with 1 Axes>"
      ]
     },
     "metadata": {
      "needs_background": "light"
     },
     "output_type": "display_data"
    },
    {
     "name": "stdout",
     "output_type": "stream",
     "text": [
      "Thetas optimaux :  [338513.77714687 118887.92988686]\n",
      "1641131331.32425\n"
     ]
    }
   ],
   "source": [
    "#TODO: avant d'appliquer le gradient, il faut faire un traitement \n",
    "\n",
    "# Ajouter les 1\n",
    "\n",
    "ones = np.ones([X_train.shape[0],1])\n",
    "X_train, mean, std = normalise(X_train)\n",
    "X_train1 = np.concatenate((ones, X_train), axis=1)\n",
    "theta_optimaux, couts = gradient_descent(X_train1, Y_train, theta, NB_ITER, LEARNING_RATE)\n",
    "\n",
    "print(\"Thetas optimaux : \", theta_optimaux)\n",
    "print(couts[-1])\n"
   ]
  },
  {
   "cell_type": "code",
   "execution_count": 14,
   "metadata": {},
   "outputs": [
    {
     "data": {
      "image/png": "[encoded data removed]",
      "text/plain": [
       "<Figure size 432x288 with 1 Axes>"
      ]
     },
     "metadata": {
      "needs_background": "light"
     },
     "output_type": "display_data"
    }
   ],
   "source": [
    "plt.plot(couts)\n",
    "plt.show()"
   ]
  },
  {
   "cell_type": "markdown",
   "metadata": {},
   "source": [
    "**Question 1** : \n",
    "\n",
    "Pour cette exemple, quel est selon vous le nombre d'itérations nécessaires pour obtenir la convergence dans l'algorithme de la descente du gradient ? \n"
   ]
  },
  {
   "cell_type": "markdown",
   "metadata": {},
   "source": [
    "**Réponse 1** :\n",
    "il faut continuer jusqu'a ce que l'erreur ne s'ameliore plus\n"
   ]
  },
  {
   "cell_type": "markdown",
   "metadata": {},
   "source": [
    "**Question2** : \n",
    "\n",
    "Modifier le code de la décente du gradient pour sortir de la boucle (avant que le nombre des itérations soit fini) lorsque l'erreur ne s'améliore plus. \n",
    "\n",
    "Pour ce faire, on calcul un taux de changement et on le compare avec un seuil de changement."
   ]
  },
  {
   "cell_type": "code",
   "execution_count": 15,
   "metadata": {},
   "outputs": [
    {
     "name": "stdout",
     "output_type": "stream",
     "text": [
      "1388\n"
     ]
    },
    {
     "data": {
      "image/png": "[encoded data removed]",
      "text/plain": [
       "<Figure size 432x288 with 1 Axes>"
      ]
     },
     "metadata": {
      "needs_background": "light"
     },
     "output_type": "display_data"
    }
   ],
   "source": [
    "# TODO : Définir la déscente du gradient\n",
    "def gradient_descent2(X, Y, theta, nb_iter, learning_rate, affich = True, seuil=0.001):\n",
    "    couts = []\n",
    "    theta1 = theta.copy()\n",
    "    \n",
    "    if (affich):\n",
    "        afficher_droite(X, Y, theta1)\n",
    "    \n",
    "    # TODO Définir l'algorithme de la descente de gradient\n",
    "    for i in range (nb_iter):\n",
    "        couts.append(J(X, Y, theta1))\n",
    "        if ((i>0) and (couts[-2]-couts[-1] <= seuil)):\n",
    "            print(i)\n",
    "            break\n",
    "        theta1 = theta1 - learning_rate * gradient(X,Y,theta1)\n",
    "    \n",
    "        \n",
    "    if(affich):\n",
    "        afficher_droite(X, Y, theta1)\n",
    "\n",
    "    return theta1, couts\n",
    "\n",
    "theta_optimaux, couts = gradient_descent2(X_train1, Y_train, theta, NB_ITER, LEARNING_RATE, affich=False,seuil=0.001)\n",
    "plt.plot(couts)\n",
    "plt.show()"
   ]
  },
  {
   "cell_type": "markdown",
   "metadata": {},
   "source": [
    "**Question 2 suite** : \n",
    "1. Donner le nombre des itérations nécessaire pour la convergence (à peu près) \n",
    "2. Quel est l'intéret de fixer un nombre des itérations ?\n",
    "3. Quel est l'intéret d'utiliser le taux d'amélioration ?"
   ]
  },
  {
   "cell_type": "markdown",
   "metadata": {},
   "source": [
    "**Réponse 2** : \n",
    "1- 1388\n",
    "2- Dans le cas ou le nombre d'iteration pour arriver a la convergence est tres grand \n",
    "3- pour arriver rapidement a la solution "
   ]
  },
  {
   "cell_type": "markdown",
   "metadata": {},
   "source": [
    "\n",
    "**Question 3** : \n",
    "\n",
    "Essayer de changer les valeurs du learning_rate,\n",
    "Afficher le graphe des coûts (J) par rapport aux différents learning_rate. \n",
    "\n",
    "- Que remarquez-vous ?\n"
   ]
  },
  {
   "cell_type": "code",
   "execution_count": 24,
   "metadata": {},
   "outputs": [
    {
     "data": {
      "image/png": "[encoded data removed]",
      "text/plain": [
       "<Figure size 432x288 with 1 Axes>"
      ]
     },
     "metadata": {
      "needs_background": "light"
     },
     "output_type": "display_data"
    }
   ],
   "source": [
    "# TODO : Tester plusieurs valeurs du learning_rate : \n",
    "\n",
    "#TODO iter_rate = 0.1\n",
    "couts1 = []\n",
    "theta_optimaux, couts1 = gradient_descent(X_train1, Y_train, theta, NB_ITER, 0.1)\n",
    "\n",
    "#TODO iter_rate = 0.05\n",
    "couts2 = []\n",
    "theta_optimaux, couts2 = gradient_descent(X_train1, Y_train, theta, NB_ITER, 0.05)\n",
    "\n",
    "#TODO iter_rate = 0.01\n",
    "couts3 = []\n",
    "theta_optimaux, couts3 = gradient_descent(X_train1, Y_train, theta, NB_ITER, 0.01)\n",
    "\n",
    "\n",
    "# Affichage du graphe des coûts par rapport aux learning_rate :\n",
    "\n",
    "plt.plot(couts1, label = \"0.1\")\n",
    "plt.plot(couts2, label = \"0.05\")\n",
    "plt.plot(couts3, label = \"0.01\")\n",
    "plt.legend()\n",
    "#plt.autoscale()\n",
    "plt.show()"
   ]
  },
  {
   "cell_type": "markdown",
   "metadata": {},
   "source": [
    "**Réponse 3** : "
   ]
  },
  {
   "cell_type": "markdown",
   "metadata": {},
   "source": [
    "**Question 4** : \n",
    "\n",
    "Appliquer la décente du gradient sur les 3 initialisations des paramètres (thetas) : \n",
    "\n",
    "- Initialisation aléatoire \n",
    "- Initialisation à zero \n",
    "- Initialisation à un \n",
    "\n",
    "Est-ce que l'initialisation des paramètres affecte la convergence ?\n"
   ]
  },
  {
   "cell_type": "code",
   "execution_count": 31,
   "metadata": {},
   "outputs": [
    {
     "data": {
      "image/png": "[encoded data removed]",
      "text/plain": [
       "<Figure size 432x288 with 1 Axes>"
      ]
     },
     "metadata": {
      "needs_background": "light"
     },
     "output_type": "display_data"
    }
   ],
   "source": [
    "# TODO Initialisation aléatoire \n",
    "couts1 = []\n",
    "\n",
    "theta_optimaux, couts1 = gradient_descent(X_train1, Y_train,np.random.rand(2), NB_ITER, LEARNING_RATE)\n",
    "\n",
    "# TODO Initialisation à zero \n",
    "couts2 = []\n",
    "theta_optimaux, couts2 = gradient_descent(X_train1, Y_train, [0,0], NB_ITER, LEARNING_RATE)\n",
    "\n",
    "\n",
    "# TODO Initialisation à un \n",
    "couts3 = []\n",
    "theta_optimaux, couts3 = gradient_descent(X_train1, Y_train, [1,1], NB_ITER, LEARNING_RATE)\n",
    "\n",
    "# Affichage du graphe des coûts par rapport aux learning_rate :\n",
    "\n",
    "plt.plot(couts1, label = \"Aleatoire\")\n",
    "plt.plot(couts2, label = \"zeroes\")\n",
    "plt.plot(couts3, label = \"uns\")\n",
    "plt.legend()\n",
    "#plt.autoscale()\n",
    "plt.show()"
   ]
  },
  {
   "cell_type": "markdown",
   "metadata": {},
   "source": [
    "**Réponse 4** : \n",
    "\n",
    "- [ ] OUI \n",
    "- [x] NON"
   ]
  },
  {
   "cell_type": "markdown",
   "metadata": {},
   "source": [
    "## II Régression Polynomiale \n",
    "\n",
    "Dans cette partie, on essaye d'appliquer une régression polynomiale.  "
   ]
  },
  {
   "cell_type": "markdown",
   "metadata": {},
   "source": [
    "## II.1 Régression Linéaire (pour comparaison) "
   ]
  },
  {
   "cell_type": "code",
   "execution_count": 100,
   "metadata": {},
   "outputs": [
    {
     "data": {
      "image/png": "[encoded data removed]",
      "text/plain": [
       "<Figure size 432x288 with 1 Axes>"
      ]
     },
     "metadata": {
      "needs_background": "light"
     },
     "output_type": "display_data"
    },
    {
     "data": {
      "image/png": "[encoded data removed]",
      "text/plain": [
       "<Figure size 432x288 with 1 Axes>"
      ]
     },
     "metadata": {
      "needs_background": "light"
     },
     "output_type": "display_data"
    },
    {
     "data": {
      "text/plain": [
       "array([[ 0.17059804],\n",
       "       [-0.44772614],\n",
       "       [-0.67346354]])"
      ]
     },
     "execution_count": 100,
     "metadata": {},
     "output_type": "execute_result"
    }
   ],
   "source": [
    "# TODO initialiser theta\n",
    "theta1 = np.random.rand(2) \n",
    "\n",
    "#Application de la régression linéaire \n",
    "theta1 , couts1 = gradient_descent(X_train1, Y_train, theta1, NB_ITER, LEARNING_RATE, affich=True)\n",
    "\n",
    "X_train[:3, :]"
   ]
  },
  {
   "cell_type": "markdown",
   "metadata": {},
   "source": [
    "## II.2 Régression Polynomiale (degré 2)"
   ]
  },
  {
   "cell_type": "code",
   "execution_count": 99,
   "metadata": {},
   "outputs": [
    {
     "data": {
      "image/png": "[encoded data removed]",
      "text/plain": [
       "<Figure size 432x288 with 1 Axes>"
      ]
     },
     "metadata": {
      "needs_background": "light"
     },
     "output_type": "display_data"
    },
    {
     "data": {
      "image/png": "[encoded data removed]",
      "text/plain": [
       "<Figure size 432x288 with 1 Axes>"
      ]
     },
     "metadata": {
      "needs_background": "light"
     },
     "output_type": "display_data"
    },
    {
     "data": {
      "text/plain": [
       "array([[ 1.        ,  0.17059804,  0.02910369],\n",
       "       [ 1.        , -0.44772614,  0.2004587 ],\n",
       "       [ 1.        , -0.67346354,  0.45355315]])"
      ]
     },
     "execution_count": 99,
     "metadata": {},
     "output_type": "execute_result"
    }
   ],
   "source": [
    "#TODO créer des données similaires à X_train mais avec une colonne X^2\n",
    "X_train2 = np.concatenate((ones,X_train, np.power(X_train, 2)), axis=1)\n",
    "# TODO initialiser theta\n",
    "theta2 = np.random.rand(3) \n",
    "\n",
    "#Application de la régression linéaire \n",
    "theta2 , couts2 = gradient_descent(X_train2, Y_train, theta2, NB_ITER, LEARNING_RATE, affich=True)\n",
    "\n",
    "X_train2[:3, :]"
   ]
  },
  {
   "cell_type": "markdown",
   "metadata": {},
   "source": [
    "## II.3 Régression Plynomiale (degré 3)"
   ]
  },
  {
   "cell_type": "code",
   "execution_count": 101,
   "metadata": {},
   "outputs": [
    {
     "data": {
      "image/png": "[encoded data removed]",
      "text/plain": [
       "<Figure size 432x288 with 1 Axes>"
      ]
     },
     "metadata": {
      "needs_background": "light"
     },
     "output_type": "display_data"
    },
    {
     "data": {
      "image/png": "[encoded data removed]",
      "text/plain": [
       "<Figure size 432x288 with 1 Axes>"
      ]
     },
     "metadata": {
      "needs_background": "light"
     },
     "output_type": "display_data"
    },
    {
     "data": {
      "text/plain": [
       "array([[ 1.        ,  0.17059804,  0.02910369,  0.00496503],\n",
       "       [ 1.        , -0.44772614,  0.2004587 , -0.0897506 ],\n",
       "       [ 1.        , -0.67346354,  0.45355315, -0.30545151]])"
      ]
     },
     "execution_count": 101,
     "metadata": {},
     "output_type": "execute_result"
    }
   ],
   "source": [
    "#TODO créer des données similaires à X_train2 mais avec une colonne X^3\n",
    "X_train3 = np.concatenate((ones,X_train, np.power(X_train, 2),np.power(X_train, 3)), axis=1)\n",
    "\n",
    "# TODO initialiser theta\n",
    "theta3 = np.random.rand(4)\n",
    "\n",
    "#Application de la régression linéaire \n",
    "theta3 , couts3 = gradient_descent(X_train3, Y_train, theta3, NB_ITER, LEARNING_RATE, affich=True)\n",
    "\n",
    "X_train3[:3, :]"
   ]
  },
  {
   "cell_type": "markdown",
   "metadata": {},
   "source": [
    "## II.4 Comparaison des évolutions des coûts\n"
   ]
  },
  {
   "cell_type": "code",
   "execution_count": 97,
   "metadata": {},
   "outputs": [
    {
     "data": {
      "image/png": "[encoded data removed]",
      "text/plain": [
       "<Figure size 432x288 with 1 Axes>"
      ]
     },
     "metadata": {
      "needs_background": "light"
     },
     "output_type": "display_data"
    }
   ],
   "source": [
    "# Affichage du graphe des coûts par rapport aux degré des polynomes :\n",
    "\n",
    "plt.plot(couts1, label = \"a X + b\")\n",
    "plt.plot(couts2, label = \"a X + b X^2 + c\")\n",
    "plt.plot(couts3, label = \"a X + b X^2 + c X^3 + d\")\n",
    "plt.legend()\n",
    "#plt.autoscale()\n",
    "plt.show()"
   ]
  },
  {
   "cell_type": "markdown",
   "metadata": {},
   "source": [
    "**Question** : Que remarquez-vous ?\n",
    "\n",
    "**Réponse** : \n"
   ]
  },
  {
   "cell_type": "markdown",
   "metadata": {},
   "source": [
    "## II.5 Comparaison des estimateurs "
   ]
  },
  {
   "cell_type": "code",
   "execution_count": 102,
   "metadata": {},
   "outputs": [
    {
     "ename": "IndexError",
     "evalue": "index 1 is out of bounds for axis 1 with size 1",
     "output_type": "error",
     "traceback": [
      "\u001b[1;31m---------------------------------------------------------------------------\u001b[0m",
      "\u001b[1;31mIndexError\u001b[0m                                Traceback (most recent call last)",
      "\u001b[1;32m<ipython-input-102-6389a7837b3a>\u001b[0m in \u001b[0;36m<module>\u001b[1;34m\u001b[0m\n\u001b[0;32m      1\u001b[0m \u001b[1;31m# Affichage des estimations :\u001b[0m\u001b[1;33m\u001b[0m\u001b[1;33m\u001b[0m\u001b[1;33m\u001b[0m\u001b[0m\n\u001b[0;32m      2\u001b[0m \u001b[1;33m\u001b[0m\u001b[0m\n\u001b[1;32m----> 3\u001b[1;33m \u001b[0mplt\u001b[0m\u001b[1;33m.\u001b[0m\u001b[0mscatter\u001b[0m\u001b[1;33m(\u001b[0m\u001b[0mX_train\u001b[0m\u001b[1;33m[\u001b[0m\u001b[1;33m:\u001b[0m\u001b[1;33m,\u001b[0m\u001b[1;36m1\u001b[0m\u001b[1;33m]\u001b[0m\u001b[1;33m,\u001b[0m \u001b[0mY_train\u001b[0m\u001b[1;33m,\u001b[0m \u001b[0mcolor\u001b[0m\u001b[1;33m=\u001b[0m\u001b[1;34m\"blue\"\u001b[0m\u001b[1;33m)\u001b[0m\u001b[1;33m\u001b[0m\u001b[1;33m\u001b[0m\u001b[0m\n\u001b[0m\u001b[0;32m      4\u001b[0m \u001b[0mplt\u001b[0m\u001b[1;33m.\u001b[0m\u001b[0mplot\u001b[0m\u001b[1;33m(\u001b[0m\u001b[0mX_train\u001b[0m\u001b[1;33m[\u001b[0m\u001b[1;33m:\u001b[0m\u001b[1;33m,\u001b[0m\u001b[1;36m1\u001b[0m\u001b[1;33m]\u001b[0m\u001b[1;33m,\u001b[0m \u001b[0mpredire\u001b[0m\u001b[1;33m(\u001b[0m\u001b[0mX_train\u001b[0m\u001b[1;33m,\u001b[0m \u001b[0mtheta1\u001b[0m\u001b[1;33m)\u001b[0m\u001b[1;33m,\u001b[0m \u001b[0mlabel\u001b[0m \u001b[1;33m=\u001b[0m \u001b[1;34m\"a X + b\"\u001b[0m\u001b[1;33m,\u001b[0m \u001b[0mcolor\u001b[0m\u001b[1;33m=\u001b[0m\u001b[1;34m\"red\"\u001b[0m\u001b[1;33m)\u001b[0m\u001b[1;33m\u001b[0m\u001b[1;33m\u001b[0m\u001b[0m\n\u001b[0;32m      5\u001b[0m \u001b[0mplt\u001b[0m\u001b[1;33m.\u001b[0m\u001b[0mplot\u001b[0m\u001b[1;33m(\u001b[0m\u001b[0mX_train\u001b[0m\u001b[1;33m[\u001b[0m\u001b[1;33m:\u001b[0m\u001b[1;33m,\u001b[0m\u001b[1;36m1\u001b[0m\u001b[1;33m]\u001b[0m\u001b[1;33m,\u001b[0m \u001b[0mpredire\u001b[0m\u001b[1;33m(\u001b[0m\u001b[0mX_train2\u001b[0m\u001b[1;33m,\u001b[0m \u001b[0mtheta2\u001b[0m\u001b[1;33m)\u001b[0m\u001b[1;33m,\u001b[0m \u001b[0mlabel\u001b[0m \u001b[1;33m=\u001b[0m \u001b[1;34m\"a X + b X^2 + c\"\u001b[0m\u001b[1;33m,\u001b[0m \u001b[0mcolor\u001b[0m\u001b[1;33m=\u001b[0m\u001b[1;34m\"green\"\u001b[0m\u001b[1;33m)\u001b[0m\u001b[1;33m\u001b[0m\u001b[1;33m\u001b[0m\u001b[0m\n",
      "\u001b[1;31mIndexError\u001b[0m: index 1 is out of bounds for axis 1 with size 1"
     ]
    }
   ],
   "source": [
    "# Affichage des estimations :\n",
    "\n",
    "plt.scatter(X_train[:,1], Y_train, color=\"blue\")\n",
    "plt.plot(X_train[:,1], predire(X_train, theta1), label = \"a X + b\", color=\"red\")\n",
    "plt.plot(X_train[:,1], predire(X_train2, theta2), label = \"a X + b X^2 + c\", color=\"green\")\n",
    "plt.plot(X_train[:,1], predire(X_train3, theta3), label = \"a X + b X^2 + c X^3 + d\", color=\"orange\")\n",
    "plt.legend()\n",
    "#plt.autoscale()\n",
    "plt.show()"
   ]
  },
  {
   "cell_type": "markdown",
   "metadata": {},
   "source": [
    "Le problème avec le graphe est que les données doivent être ordonnées selon la superficie"
   ]
  },
  {
   "cell_type": "code",
   "execution_count": null,
   "metadata": {},
   "outputs": [],
   "source": [
    "# Trouver les indexes ordonnées \n",
    "idx = X_train[:,1].argsort()\n",
    "\n",
    "X_train = X_train[idx]\n",
    "X_train2 = X_train2[idx]\n",
    "X_train3 = X_train3[idx]\n",
    "Y_train = Y_train[idx] #pas besoin de ça, mais pour avoir les Y alignés avec les X\n",
    "\n",
    "plt.scatter(X_train[:,1], Y_train, color=\"blue\")\n",
    "plt.plot(X_train[:,1], predire(X_train, theta1), label = \"a X + b\", color=\"red\")\n",
    "plt.plot(X_train[:,1], predire(X_train2, theta2), label = \"a X + b X^2 + c\", color=\"green\")\n",
    "plt.plot(X_train[:,1], predire(X_train3, theta3), label = \"a X + b X^2 + c X^3 + d\", color=\"orange\")\n",
    "plt.legend()\n",
    "#plt.autoscale()\n",
    "plt.show()\n"
   ]
  },
  {
   "cell_type": "markdown",
   "metadata": {},
   "source": [
    "## II.6 Test des modèles (Performance)\n",
    "\n",
    "Ici, on va tester les modèles : theta1, theta2 et theta3 sur (X_test, Y_test) afin de décider le meilleur modèle dans le cas de prédidication des prix des maisons en utilisant la surface. \n",
    "\n",
    "Pour ce faire, on utilise **Root Mean Squared Error (RMSE)**. Notre fonction de cout est, en réalité, **Mean Squared Error (RMSE)**. Donc, il suffit d'appliquer la racine carrée"
   ]
  },
  {
   "cell_type": "code",
   "execution_count": null,
   "metadata": {},
   "outputs": [],
   "source": [
    "# TODO tester les trois modèles en utilisant la fonction \n",
    "\n",
    "erreur1 = []\n",
    "erreur2 = []\n",
    "erreur3 = []\n",
    "\n",
    "erreur1, erreur2, erreur3\n"
   ]
  },
  {
   "cell_type": "markdown",
   "metadata": {},
   "source": [
    "**Question** : Quel est le meilleur modèle selon la métrique et les données utilisées ?\n",
    "\n",
    "**Réponse** : "
   ]
  },
  {
   "cell_type": "markdown",
   "metadata": {},
   "source": [
    "# III Régression lineaire avec scikit-learn \n",
    "\n",
    "\n",
    "On poursuit avec les données des prix maisons : "
   ]
  },
  {
   "cell_type": "markdown",
   "metadata": {},
   "source": [
    "## III.1 Préparation des données"
   ]
  },
  {
   "cell_type": "code",
   "execution_count": null,
   "metadata": {},
   "outputs": [],
   "source": [
    "# Diviser les données \n",
    "from sklearn.model_selection import train_test_split  \n",
    "X = houses.iloc[:, :-1].values # Premières colonnes \n",
    "Y = houses.iloc[:,-1].values # Dernière colonne \n",
    "X_train, X_test, Y_train, Y_test = train_test_split(X, Y, test_size=0.2, random_state=0)  "
   ]
  },
  {
   "cell_type": "markdown",
   "metadata": {},
   "source": [
    "## III.2 Régression linéaire"
   ]
  },
  {
   "cell_type": "code",
   "execution_count": null,
   "metadata": {},
   "outputs": [],
   "source": [
    "# Entraîner le modèle \n",
    "from sklearn.linear_model import LinearRegression  \n",
    "regressor1 = LinearRegression(normalize=True)  \n",
    "regressor1.fit(X_train, Y_train)  "
   ]
  },
  {
   "cell_type": "code",
   "execution_count": null,
   "metadata": {},
   "outputs": [],
   "source": [
    "# Le coefficient des constantes\n",
    "print(regressor1.intercept_)  "
   ]
  },
  {
   "cell_type": "code",
   "execution_count": null,
   "metadata": {},
   "outputs": [],
   "source": [
    "# Les coéfficients des variables (caractéristiques)\n",
    "print(regressor1.coef_)  "
   ]
  },
  {
   "cell_type": "code",
   "execution_count": null,
   "metadata": {},
   "outputs": [],
   "source": [
    "plt.scatter(X_train, Y_train, color=\"blue\")\n",
    "plt.plot(X, regressor1.predict(X), color=\"red\")\n",
    "plt.show()"
   ]
  },
  {
   "cell_type": "code",
   "execution_count": null,
   "metadata": {},
   "outputs": [],
   "source": [
    "# Prédire les valeurs du X_test \n",
    "Y_pred = regressor1.predict(X_test)  \n",
    "\n",
    "plt.scatter(X_train, Y_train, color=\"blue\")\n",
    "plt.scatter(X_test, Y_test, color=\"green\")\n",
    "plt.plot(X, regressor1.predict(X), color=\"red\")\n",
    "plt.scatter(X_test, Y_pred, color=\"violet\")\n",
    "plt.show()"
   ]
  },
  {
   "cell_type": "markdown",
   "metadata": {},
   "source": [
    "## III.3 Régression polynomiale\n",
    "\n",
    "La régression polynomiale est un cas spécial de la régression linéaire. On peut créer de nouvelles caractéristiques dans l'étape de préparation des données en multipliant les valeurs des anciennes caractéristiques. "
   ]
  },
  {
   "cell_type": "markdown",
   "metadata": {},
   "source": [
    "### III.3.1 Créer des nouvelles caractéristiques\n"
   ]
  },
  {
   "cell_type": "code",
   "execution_count": null,
   "metadata": {},
   "outputs": [],
   "source": [
    "from sklearn.preprocessing import PolynomialFeatures\n",
    "\n",
    "poly2 = PolynomialFeatures(degree=2, include_bias=False)\n",
    "\n",
    "X_train2 = poly2.fit_transform(X_train)\n",
    "X_test2 = poly2.fit_transform(X_test)\n",
    "\n",
    "X_train2[:3, :]"
   ]
  },
  {
   "cell_type": "code",
   "execution_count": null,
   "metadata": {},
   "outputs": [],
   "source": [
    "poly10 = PolynomialFeatures(degree=10, include_bias=False)\n",
    "\n",
    "X_train10 = poly10.fit_transform(X_train)\n",
    "X_test10 = poly10.fit_transform(X_test)\n",
    "\n",
    "X_train10[:3, :]"
   ]
  },
  {
   "cell_type": "markdown",
   "metadata": {},
   "source": [
    "### III.3.2 Entrainer les deux modèles"
   ]
  },
  {
   "cell_type": "code",
   "execution_count": null,
   "metadata": {},
   "outputs": [],
   "source": [
    "# Regrésseur polynomial de degré 2\n",
    "regressor2 = LinearRegression(normalize=True)  \n",
    "regressor2.fit(X_train2, Y_train)\n",
    "\n",
    "# Regrésseur polynomial de degré 10\n",
    "regressor10 = LinearRegression(normalize=True)  \n",
    "regressor10.fit(X_train10, Y_train)"
   ]
  },
  {
   "cell_type": "markdown",
   "metadata": {},
   "source": [
    "## III.5 Evaluation des modèles \n"
   ]
  },
  {
   "cell_type": "code",
   "execution_count": null,
   "metadata": {},
   "outputs": [],
   "source": [
    "Y_pred1 = regressor1.predict(X_test)\n",
    "Y_pred2 = regressor2.predict(X_test2)\n",
    "Y_pred10 = regressor10.predict(X_test10)"
   ]
  },
  {
   "cell_type": "markdown",
   "metadata": {},
   "source": [
    "### III.5.1 Explained variance score\n",
    "\n",
    "$$explained\\_variance(y, ŷ) = 1 - \\frac{Var(y - ŷ)}{Var(y)}$$"
   ]
  },
  {
   "cell_type": "code",
   "execution_count": null,
   "metadata": {},
   "outputs": [],
   "source": [
    "from sklearn.metrics import  explained_variance_score\n",
    "\n",
    "erreur1 = explained_variance_score(Y_test, Y_pred1)\n",
    "erreur2 = explained_variance_score(Y_test, Y_pred2)\n",
    "erreur10 = explained_variance_score(Y_test, Y_pred10)\n",
    "\n",
    "erreur1, erreur2, erreur10"
   ]
  },
  {
   "cell_type": "markdown",
   "metadata": {},
   "source": [
    "### III.5.2 Mean squared error\n",
    "\n",
    "$$MSE(y, ŷ) = \\frac{1}{nbr\\_echantillons} \\sum\\limits_{i=0}^{nbr\\_echantillons - 1} (y - ŷ)^2$$"
   ]
  },
  {
   "cell_type": "code",
   "execution_count": null,
   "metadata": {},
   "outputs": [],
   "source": [
    "from sklearn.metrics import mean_squared_error\n",
    "\n",
    "erreur1 = mean_squared_error(Y_test, Y_pred1)\n",
    "erreur2 = mean_squared_error(Y_test, Y_pred2)\n",
    "erreur10 = mean_squared_error(Y_test, Y_pred10)\n",
    "\n",
    "erreur1, erreur2, erreur10"
   ]
  },
  {
   "cell_type": "markdown",
   "metadata": {},
   "source": [
    "### III.5.3 Mean absolute error\n",
    "\n",
    "$$MAE(y, ŷ) = \\frac{1}{nbr\\_echantillons} \\sum\\limits_{i=0}^{nbr\\_echantillons - 1} |y - ŷ|$$"
   ]
  },
  {
   "cell_type": "code",
   "execution_count": null,
   "metadata": {},
   "outputs": [],
   "source": [
    "from sklearn.metrics import mean_absolute_error\n",
    "\n",
    "erreur1 = mean_absolute_error(Y_test, Y_pred1)\n",
    "erreur2 = mean_absolute_error(Y_test, Y_pred2)\n",
    "erreur10 = mean_absolute_error(Y_test, Y_pred10)\n",
    "\n",
    "erreur1, erreur2, erreur10"
   ]
  },
  {
   "cell_type": "markdown",
   "metadata": {},
   "source": [
    "### III.5.4 Autres\n",
    "\n",
    "Consulter https://scikit-learn.org/stable/modules/model_evaluation.html#regression-metrics"
   ]
  },
  {
   "cell_type": "markdown",
   "metadata": {},
   "source": [
    "## III.6 Persistance des modèles \n",
    "\n",
    "Après avoir entrainé un modèle, il est souhaitable de le conserver pour un usage ultérieur sans avoir besoin d'entrainer une deuxième fois. Il y a deux façons de le faire selon la doc de scikit-learn (https://scikit-learn.org/stable/modules/model_persistence.html)\n",
    "\n",
    "- la sérialisation pickle\n",
    "- la sérialisation joblib\n",
    "\n",
    "La deuxième est recommandée par scikit-learn. Après avoir entrainer notre modèle, on le sauvegarde."
   ]
  },
  {
   "cell_type": "code",
   "execution_count": null,
   "metadata": {},
   "outputs": [],
   "source": [
    "from joblib import dump, load\n",
    "\n",
    "# Pour sauvegarder le modèle\n",
    "dump(regressor1, \"mon_modele.joblib\")\n",
    "\n",
    "# Pour Récupérer le modèle\n",
    "regressor_past = load(\"mon_modele.joblib\")"
   ]
  }
 ],
 "metadata": {
  "kernelspec": {
   "display_name": "Python 3",
   "language": "python",
   "name": "python3"
  },
  "language_info": {
   "codemirror_mode": {
    "name": "ipython",
    "version": 3
   },
   "file_extension": ".py",
   "mimetype": "text/x-python",
   "name": "python",
   "nbconvert_exporter": "python",
   "pygments_lexer": "ipython3",
   "version": "3.7.4"
  }
 },
 "nbformat": 4,
 "nbformat_minor": 2
}
